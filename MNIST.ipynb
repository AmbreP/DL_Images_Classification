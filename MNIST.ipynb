{
 "cells": [
  {
   "cell_type": "markdown",
   "metadata": {},
   "source": [
    "# Reconnaissance de lettres - Création de modèle"
   ]
  },
  {
   "cell_type": "markdown",
   "metadata": {},
   "source": [
    "## Import des modules & données"
   ]
  },
  {
   "cell_type": "code",
   "execution_count": 1,
   "metadata": {},
   "outputs": [],
   "source": [
    "import numpy as np\n",
    "import pandas as pd\n",
    "\n",
    "from sklearn.model_selection import train_test_split\n",
    "\n",
    "import tensorflow as tf\n",
    "from keras.utils import *\n",
    "from keras import Sequential\n",
    "from keras.layers import *\n",
    "from keras.models import *\n",
    "from keras.callbacks import EarlyStopping, ModelCheckpoint, ReduceLROnPlateau\n",
    "\n",
    "from sklearn.metrics import classification_report, confusion_matrix\n",
    "\n",
    "import seaborn as sns\n",
    "\n",
    "import matplotlib.pyplot as plt "
   ]
  },
  {
   "cell_type": "code",
   "execution_count": 2,
   "metadata": {
    "scrolled": true
   },
   "outputs": [
    {
     "name": "stdout",
     "output_type": "stream",
     "text": [
      "(88800, 785)\n"
     ]
    },
    {
     "data": {
      "text/html": [
       "<div>\n",
       "<style scoped>\n",
       "    .dataframe tbody tr th:only-of-type {\n",
       "        vertical-align: middle;\n",
       "    }\n",
       "\n",
       "    .dataframe tbody tr th {\n",
       "        vertical-align: top;\n",
       "    }\n",
       "\n",
       "    .dataframe thead th {\n",
       "        text-align: right;\n",
       "    }\n",
       "</style>\n",
       "<table border=\"1\" class=\"dataframe\">\n",
       "  <thead>\n",
       "    <tr style=\"text-align: right;\">\n",
       "      <th></th>\n",
       "      <th>label</th>\n",
       "      <th>col_1</th>\n",
       "      <th>col_2</th>\n",
       "      <th>col_3</th>\n",
       "      <th>col_4</th>\n",
       "      <th>col_5</th>\n",
       "      <th>col_6</th>\n",
       "      <th>col_7</th>\n",
       "      <th>col_8</th>\n",
       "      <th>col_9</th>\n",
       "      <th>...</th>\n",
       "      <th>col_775</th>\n",
       "      <th>col_776</th>\n",
       "      <th>col_777</th>\n",
       "      <th>col_778</th>\n",
       "      <th>col_779</th>\n",
       "      <th>col_780</th>\n",
       "      <th>col_781</th>\n",
       "      <th>col_782</th>\n",
       "      <th>col_783</th>\n",
       "      <th>col_784</th>\n",
       "    </tr>\n",
       "  </thead>\n",
       "  <tbody>\n",
       "    <tr>\n",
       "      <th>0</th>\n",
       "      <td>23</td>\n",
       "      <td>0</td>\n",
       "      <td>0</td>\n",
       "      <td>0</td>\n",
       "      <td>0</td>\n",
       "      <td>0</td>\n",
       "      <td>0</td>\n",
       "      <td>0</td>\n",
       "      <td>0</td>\n",
       "      <td>0</td>\n",
       "      <td>...</td>\n",
       "      <td>0</td>\n",
       "      <td>0</td>\n",
       "      <td>0</td>\n",
       "      <td>0</td>\n",
       "      <td>0</td>\n",
       "      <td>0</td>\n",
       "      <td>0</td>\n",
       "      <td>0</td>\n",
       "      <td>0</td>\n",
       "      <td>0</td>\n",
       "    </tr>\n",
       "    <tr>\n",
       "      <th>1</th>\n",
       "      <td>7</td>\n",
       "      <td>0</td>\n",
       "      <td>0</td>\n",
       "      <td>0</td>\n",
       "      <td>0</td>\n",
       "      <td>0</td>\n",
       "      <td>0</td>\n",
       "      <td>0</td>\n",
       "      <td>0</td>\n",
       "      <td>0</td>\n",
       "      <td>...</td>\n",
       "      <td>0</td>\n",
       "      <td>0</td>\n",
       "      <td>0</td>\n",
       "      <td>0</td>\n",
       "      <td>0</td>\n",
       "      <td>0</td>\n",
       "      <td>0</td>\n",
       "      <td>0</td>\n",
       "      <td>0</td>\n",
       "      <td>0</td>\n",
       "    </tr>\n",
       "    <tr>\n",
       "      <th>2</th>\n",
       "      <td>16</td>\n",
       "      <td>0</td>\n",
       "      <td>0</td>\n",
       "      <td>0</td>\n",
       "      <td>0</td>\n",
       "      <td>0</td>\n",
       "      <td>0</td>\n",
       "      <td>0</td>\n",
       "      <td>0</td>\n",
       "      <td>0</td>\n",
       "      <td>...</td>\n",
       "      <td>0</td>\n",
       "      <td>0</td>\n",
       "      <td>0</td>\n",
       "      <td>0</td>\n",
       "      <td>0</td>\n",
       "      <td>0</td>\n",
       "      <td>0</td>\n",
       "      <td>0</td>\n",
       "      <td>0</td>\n",
       "      <td>0</td>\n",
       "    </tr>\n",
       "    <tr>\n",
       "      <th>3</th>\n",
       "      <td>15</td>\n",
       "      <td>0</td>\n",
       "      <td>0</td>\n",
       "      <td>0</td>\n",
       "      <td>0</td>\n",
       "      <td>0</td>\n",
       "      <td>0</td>\n",
       "      <td>0</td>\n",
       "      <td>0</td>\n",
       "      <td>0</td>\n",
       "      <td>...</td>\n",
       "      <td>0</td>\n",
       "      <td>0</td>\n",
       "      <td>0</td>\n",
       "      <td>0</td>\n",
       "      <td>0</td>\n",
       "      <td>0</td>\n",
       "      <td>0</td>\n",
       "      <td>0</td>\n",
       "      <td>0</td>\n",
       "      <td>0</td>\n",
       "    </tr>\n",
       "    <tr>\n",
       "      <th>4</th>\n",
       "      <td>23</td>\n",
       "      <td>0</td>\n",
       "      <td>0</td>\n",
       "      <td>0</td>\n",
       "      <td>0</td>\n",
       "      <td>0</td>\n",
       "      <td>0</td>\n",
       "      <td>0</td>\n",
       "      <td>0</td>\n",
       "      <td>0</td>\n",
       "      <td>...</td>\n",
       "      <td>0</td>\n",
       "      <td>0</td>\n",
       "      <td>0</td>\n",
       "      <td>0</td>\n",
       "      <td>0</td>\n",
       "      <td>0</td>\n",
       "      <td>0</td>\n",
       "      <td>0</td>\n",
       "      <td>0</td>\n",
       "      <td>0</td>\n",
       "    </tr>\n",
       "  </tbody>\n",
       "</table>\n",
       "<p>5 rows × 785 columns</p>\n",
       "</div>"
      ],
      "text/plain": [
       "   label  col_1  col_2  col_3  col_4  col_5  col_6  col_7  col_8  col_9  ...  \\\n",
       "0     23      0      0      0      0      0      0      0      0      0  ...   \n",
       "1      7      0      0      0      0      0      0      0      0      0  ...   \n",
       "2     16      0      0      0      0      0      0      0      0      0  ...   \n",
       "3     15      0      0      0      0      0      0      0      0      0  ...   \n",
       "4     23      0      0      0      0      0      0      0      0      0  ...   \n",
       "\n",
       "   col_775  col_776  col_777  col_778  col_779  col_780  col_781  col_782  \\\n",
       "0        0        0        0        0        0        0        0        0   \n",
       "1        0        0        0        0        0        0        0        0   \n",
       "2        0        0        0        0        0        0        0        0   \n",
       "3        0        0        0        0        0        0        0        0   \n",
       "4        0        0        0        0        0        0        0        0   \n",
       "\n",
       "   col_783  col_784  \n",
       "0        0        0  \n",
       "1        0        0  \n",
       "2        0        0  \n",
       "3        0        0  \n",
       "4        0        0  \n",
       "\n",
       "[5 rows x 785 columns]"
      ]
     },
     "execution_count": 2,
     "metadata": {},
     "output_type": "execute_result"
    }
   ],
   "source": [
    "training_letter = pd.read_csv('data/emnist-letters-train.csv', header=None, prefix=\"col_\")\n",
    "training_letter.rename(columns = {'col_0':'label'}, inplace = True)\n",
    "\n",
    "testing_letter = pd.read_csv('data/emnist-letters-test.csv', header=None, prefix=\"col_\")\n",
    "testing_letter.rename(columns = {'col_0':'label'}, inplace = True)\n",
    "\n",
    "print(training_letter.shape)\n",
    "training_letter.head()"
   ]
  },
  {
   "cell_type": "code",
   "execution_count": 3,
   "metadata": {
    "scrolled": true
   },
   "outputs": [
    {
     "name": "stdout",
     "output_type": "stream",
     "text": [
      "(14800, 785)\n"
     ]
    },
    {
     "data": {
      "text/html": [
       "<div>\n",
       "<style scoped>\n",
       "    .dataframe tbody tr th:only-of-type {\n",
       "        vertical-align: middle;\n",
       "    }\n",
       "\n",
       "    .dataframe tbody tr th {\n",
       "        vertical-align: top;\n",
       "    }\n",
       "\n",
       "    .dataframe thead th {\n",
       "        text-align: right;\n",
       "    }\n",
       "</style>\n",
       "<table border=\"1\" class=\"dataframe\">\n",
       "  <thead>\n",
       "    <tr style=\"text-align: right;\">\n",
       "      <th></th>\n",
       "      <th>label</th>\n",
       "      <th>col_1</th>\n",
       "      <th>col_2</th>\n",
       "      <th>col_3</th>\n",
       "      <th>col_4</th>\n",
       "      <th>col_5</th>\n",
       "      <th>col_6</th>\n",
       "      <th>col_7</th>\n",
       "      <th>col_8</th>\n",
       "      <th>col_9</th>\n",
       "      <th>...</th>\n",
       "      <th>col_775</th>\n",
       "      <th>col_776</th>\n",
       "      <th>col_777</th>\n",
       "      <th>col_778</th>\n",
       "      <th>col_779</th>\n",
       "      <th>col_780</th>\n",
       "      <th>col_781</th>\n",
       "      <th>col_782</th>\n",
       "      <th>col_783</th>\n",
       "      <th>col_784</th>\n",
       "    </tr>\n",
       "  </thead>\n",
       "  <tbody>\n",
       "    <tr>\n",
       "      <th>0</th>\n",
       "      <td>1</td>\n",
       "      <td>0</td>\n",
       "      <td>0</td>\n",
       "      <td>0</td>\n",
       "      <td>0</td>\n",
       "      <td>0</td>\n",
       "      <td>0</td>\n",
       "      <td>0</td>\n",
       "      <td>0</td>\n",
       "      <td>0</td>\n",
       "      <td>...</td>\n",
       "      <td>0</td>\n",
       "      <td>0</td>\n",
       "      <td>0</td>\n",
       "      <td>0</td>\n",
       "      <td>0</td>\n",
       "      <td>0</td>\n",
       "      <td>0</td>\n",
       "      <td>0</td>\n",
       "      <td>0</td>\n",
       "      <td>0</td>\n",
       "    </tr>\n",
       "    <tr>\n",
       "      <th>1</th>\n",
       "      <td>1</td>\n",
       "      <td>0</td>\n",
       "      <td>0</td>\n",
       "      <td>0</td>\n",
       "      <td>0</td>\n",
       "      <td>0</td>\n",
       "      <td>0</td>\n",
       "      <td>0</td>\n",
       "      <td>0</td>\n",
       "      <td>0</td>\n",
       "      <td>...</td>\n",
       "      <td>0</td>\n",
       "      <td>0</td>\n",
       "      <td>0</td>\n",
       "      <td>0</td>\n",
       "      <td>0</td>\n",
       "      <td>0</td>\n",
       "      <td>0</td>\n",
       "      <td>0</td>\n",
       "      <td>0</td>\n",
       "      <td>0</td>\n",
       "    </tr>\n",
       "    <tr>\n",
       "      <th>2</th>\n",
       "      <td>1</td>\n",
       "      <td>0</td>\n",
       "      <td>0</td>\n",
       "      <td>0</td>\n",
       "      <td>0</td>\n",
       "      <td>0</td>\n",
       "      <td>0</td>\n",
       "      <td>0</td>\n",
       "      <td>0</td>\n",
       "      <td>0</td>\n",
       "      <td>...</td>\n",
       "      <td>0</td>\n",
       "      <td>0</td>\n",
       "      <td>0</td>\n",
       "      <td>0</td>\n",
       "      <td>0</td>\n",
       "      <td>0</td>\n",
       "      <td>0</td>\n",
       "      <td>0</td>\n",
       "      <td>0</td>\n",
       "      <td>0</td>\n",
       "    </tr>\n",
       "    <tr>\n",
       "      <th>3</th>\n",
       "      <td>1</td>\n",
       "      <td>0</td>\n",
       "      <td>0</td>\n",
       "      <td>0</td>\n",
       "      <td>0</td>\n",
       "      <td>0</td>\n",
       "      <td>0</td>\n",
       "      <td>0</td>\n",
       "      <td>0</td>\n",
       "      <td>0</td>\n",
       "      <td>...</td>\n",
       "      <td>0</td>\n",
       "      <td>0</td>\n",
       "      <td>0</td>\n",
       "      <td>0</td>\n",
       "      <td>0</td>\n",
       "      <td>0</td>\n",
       "      <td>0</td>\n",
       "      <td>0</td>\n",
       "      <td>0</td>\n",
       "      <td>0</td>\n",
       "    </tr>\n",
       "    <tr>\n",
       "      <th>4</th>\n",
       "      <td>1</td>\n",
       "      <td>0</td>\n",
       "      <td>0</td>\n",
       "      <td>0</td>\n",
       "      <td>0</td>\n",
       "      <td>0</td>\n",
       "      <td>0</td>\n",
       "      <td>0</td>\n",
       "      <td>0</td>\n",
       "      <td>0</td>\n",
       "      <td>...</td>\n",
       "      <td>0</td>\n",
       "      <td>0</td>\n",
       "      <td>0</td>\n",
       "      <td>0</td>\n",
       "      <td>0</td>\n",
       "      <td>0</td>\n",
       "      <td>0</td>\n",
       "      <td>0</td>\n",
       "      <td>0</td>\n",
       "      <td>0</td>\n",
       "    </tr>\n",
       "  </tbody>\n",
       "</table>\n",
       "<p>5 rows × 785 columns</p>\n",
       "</div>"
      ],
      "text/plain": [
       "   label  col_1  col_2  col_3  col_4  col_5  col_6  col_7  col_8  col_9  ...  \\\n",
       "0      1      0      0      0      0      0      0      0      0      0  ...   \n",
       "1      1      0      0      0      0      0      0      0      0      0  ...   \n",
       "2      1      0      0      0      0      0      0      0      0      0  ...   \n",
       "3      1      0      0      0      0      0      0      0      0      0  ...   \n",
       "4      1      0      0      0      0      0      0      0      0      0  ...   \n",
       "\n",
       "   col_775  col_776  col_777  col_778  col_779  col_780  col_781  col_782  \\\n",
       "0        0        0        0        0        0        0        0        0   \n",
       "1        0        0        0        0        0        0        0        0   \n",
       "2        0        0        0        0        0        0        0        0   \n",
       "3        0        0        0        0        0        0        0        0   \n",
       "4        0        0        0        0        0        0        0        0   \n",
       "\n",
       "   col_783  col_784  \n",
       "0        0        0  \n",
       "1        0        0  \n",
       "2        0        0  \n",
       "3        0        0  \n",
       "4        0        0  \n",
       "\n",
       "[5 rows x 785 columns]"
      ]
     },
     "execution_count": 3,
     "metadata": {},
     "output_type": "execute_result"
    }
   ],
   "source": [
    "print(testing_letter.shape)\n",
    "testing_letter.head()"
   ]
  },
  {
   "cell_type": "markdown",
   "metadata": {},
   "source": [
    "Les datasets contiennent les données déjà vectorisées.\n",
    "<br> 1 ligne = 784 pixels (28*28)"
   ]
  },
  {
   "cell_type": "code",
   "execution_count": 4,
   "metadata": {
    "scrolled": false
   },
   "outputs": [
    {
     "data": {
      "image/png": "[encoded data removed]",
      "text/plain": [
       "<Figure size 1152x1008 with 25 Axes>"
      ]
     },
     "metadata": {
      "needs_background": "light"
     },
     "output_type": "display_data"
    }
   ],
   "source": [
    "df_unique = training_letter.groupby('label').first()\n",
    "\n",
    "xx = np.array(df_unique.values)\n",
    "\n",
    "fig,axes = plt.subplots(5,5,figsize=(16,14))\n",
    "for i,ax in enumerate(axes.flat):\n",
    "    ax.imshow(xx[i].reshape([28,28]))"
   ]
  },
  {
   "cell_type": "markdown",
   "metadata": {},
   "source": [
    "Les lettres sont pivotées à 90° vers la droite et retournées.\n",
    "<br>Un dictionnaire est créé pour attribuer les lettres aux labels (ici l'index = l'ordre des lettres dans l'alphabet)"
   ]
  },
  {
   "cell_type": "code",
   "execution_count": 5,
   "metadata": {},
   "outputs": [
    {
     "data": {
      "text/plain": [
       "array([23,  7, 16, 15, 17, 13, 11, 22, 24, 10, 14, 18, 21, 26, 19,  5,  2,\n",
       "       25,  9, 12,  1,  8,  4,  3, 20,  6], dtype=int64)"
      ]
     },
     "execution_count": 5,
     "metadata": {},
     "output_type": "execute_result"
    }
   ],
   "source": [
    "dictionnaire = dict({0:\"???\",\n",
    "                     1:\"a\",\n",
    "                     2:\"b\",\n",
    "                     3:\"c\",\n",
    "                     4:\"d\",\n",
    "                    5:\"e\",\n",
    "                    6:\"f\",\n",
    "                    7:\"g\",\n",
    "                    8:\"h\",\n",
    "                    9:\"i\",\n",
    "                    10:\"j\",\n",
    "                    11:\"k\",\n",
    "                    12:\"l\",\n",
    "                    13:\"m\",\n",
    "                    14:\"n\",\n",
    "                    15:\"o\",\n",
    "                    16:\"p\",\n",
    "                    17:\"q\",\n",
    "                    18:\"r\",\n",
    "                    19:\"s\",\n",
    "                    20:\"t\",\n",
    "                    21:\"u\",\n",
    "                    22:\"v\",\n",
    "                    23:\"w\",\n",
    "                    24:\"x\",\n",
    "                    25:\"y\",\n",
    "                    26:\"z\"})\n",
    "\n",
    "training_letter.label.unique()"
   ]
  },
  {
   "cell_type": "markdown",
   "metadata": {},
   "source": [
    "## Exploration"
   ]
  },
  {
   "cell_type": "code",
   "execution_count": 6,
   "metadata": {},
   "outputs": [
    {
     "name": "stdout",
     "output_type": "stream",
     "text": [
      "26\n"
     ]
    },
    {
     "data": {
      "text/plain": [
       "25    3453\n",
       "11    3438\n",
       "5     3437\n",
       "24    3437\n",
       "20    3436\n",
       "17    3435\n",
       "16    3430\n",
       "9     3428\n",
       "26    3427\n",
       "8     3424\n",
       "23    3423\n",
       "22    3422\n",
       "18    3419\n",
       "21    3419\n",
       "3     3419\n",
       "12    3415\n",
       "15    3408\n",
       "10    3402\n",
       "13    3402\n",
       "4     3398\n",
       "2     3396\n",
       "1     3396\n",
       "6     3394\n",
       "19    3392\n",
       "7     3385\n",
       "14    3365\n",
       "Name: label, dtype: int64"
      ]
     },
     "execution_count": 6,
     "metadata": {},
     "output_type": "execute_result"
    }
   ],
   "source": [
    "print(len(training_letter[\"label\"].unique()))\n",
    "training_letter[\"label\"].value_counts()"
   ]
  },
  {
   "cell_type": "code",
   "execution_count": 7,
   "metadata": {},
   "outputs": [
    {
     "name": "stdout",
     "output_type": "stream",
     "text": [
      "19\n"
     ]
    },
    {
     "data": {
      "text/plain": [
       "1     800\n",
       "11    800\n",
       "18    800\n",
       "17    800\n",
       "16    800\n",
       "15    800\n",
       "14    800\n",
       "13    800\n",
       "12    800\n",
       "10    800\n",
       "2     800\n",
       "9     800\n",
       "8     800\n",
       "7     800\n",
       "6     800\n",
       "5     800\n",
       "4     800\n",
       "3     800\n",
       "19    400\n",
       "Name: label, dtype: int64"
      ]
     },
     "execution_count": 7,
     "metadata": {},
     "output_type": "execute_result"
    }
   ],
   "source": [
    "print(len(testing_letter[\"label\"].unique()))\n",
    "testing_letter[\"label\"].value_counts()"
   ]
  },
  {
   "cell_type": "code",
   "execution_count": 8,
   "metadata": {},
   "outputs": [
    {
     "name": "stdout",
     "output_type": "stream",
     "text": [
      "<class 'pandas.core.frame.DataFrame'>\n",
      "RangeIndex: 88800 entries, 0 to 88799\n",
      "Columns: 785 entries, label to col_784\n",
      "dtypes: int64(785)\n",
      "memory usage: 531.8 MB\n"
     ]
    }
   ],
   "source": [
    "training_letter.info()"
   ]
  },
  {
   "cell_type": "code",
   "execution_count": 9,
   "metadata": {
    "scrolled": true
   },
   "outputs": [
    {
     "name": "stdout",
     "output_type": "stream",
     "text": [
      "<class 'pandas.core.frame.DataFrame'>\n",
      "RangeIndex: 14800 entries, 0 to 14799\n",
      "Columns: 785 entries, label to col_784\n",
      "dtypes: int64(785)\n",
      "memory usage: 88.6 MB\n"
     ]
    }
   ],
   "source": [
    "testing_letter.info()"
   ]
  },
  {
   "cell_type": "markdown",
   "metadata": {},
   "source": [
    "Le nombre de lettres est équilibré dans les datasets"
   ]
  },
  {
   "cell_type": "markdown",
   "metadata": {},
   "source": [
    "## Pre processing"
   ]
  },
  {
   "cell_type": "code",
   "execution_count": 10,
   "metadata": {},
   "outputs": [
    {
     "name": "stdout",
     "output_type": "stream",
     "text": [
      "(88800,)\n",
      "(88800, 784)\n"
     ]
    },
    {
     "data": {
      "image/png": "[encoded data removed]",
      "text/plain": [
       "<Figure size 720x576 with 15 Axes>"
      ]
     },
     "metadata": {
      "needs_background": "light"
     },
     "output_type": "display_data"
    }
   ],
   "source": [
    "#training\n",
    "y1 = np.array(training_letter.iloc[:,0].values)\n",
    "x1 = np.array(training_letter.iloc[:,1:].values)\n",
    "#testing\n",
    "y2 = np.array(testing_letter.iloc[:,0].values)\n",
    "x2 = np.array(testing_letter.iloc[:,1:].values)\n",
    "print(y1.shape)\n",
    "print(x1.shape)\n",
    "\n",
    "fig,axes = plt.subplots(3,5,figsize=(10,8))\n",
    "for i,ax in enumerate(axes.flat):\n",
    "    ax.imshow(x1[i].reshape([28,28]))"
   ]
  },
  {
   "cell_type": "code",
   "execution_count": 11,
   "metadata": {},
   "outputs": [],
   "source": [
    "# Normalise and reshape data\n",
    "train_images = x1 / 255.0\n",
    "test_images = x2 / 255.0\n",
    "\n",
    "train_images_number = train_images.shape[0]\n",
    "train_images_height = 28\n",
    "train_images_width = 28\n",
    "train_images_size = train_images_height*train_images_width\n",
    "\n",
    "train_images = train_images.reshape(train_images_number, train_images_height, train_images_width, 1)\n",
    "\n",
    "test_images_number = test_images.shape[0]\n",
    "test_images_height = 28\n",
    "test_images_width = 28\n",
    "test_images_size = test_images_height*test_images_width\n",
    "\n",
    "test_images = test_images.reshape(test_images_number, test_images_height, test_images_width, 1)"
   ]
  },
  {
   "cell_type": "code",
   "execution_count": 12,
   "metadata": {},
   "outputs": [
    {
     "data": {
      "text/plain": [
       "<matplotlib.image.AxesImage at 0x28a17fac100>"
      ]
     },
     "execution_count": 12,
     "metadata": {},
     "output_type": "execute_result"
    },
    {
     "data": {
      "image/png": "[encoded data removed]",
      "text/plain": [
       "<Figure size 432x288 with 1 Axes>"
      ]
     },
     "metadata": {
      "needs_background": "light"
     },
     "output_type": "display_data"
    }
   ],
   "source": [
    "plt.imshow(test_images[1].reshape([28,28]))"
   ]
  },
  {
   "cell_type": "code",
   "execution_count": 13,
   "metadata": {},
   "outputs": [],
   "source": [
    "number_of_classes = len(training_letter[\"label\"].unique())+1\n",
    "\n",
    "y1 = tf.keras.utils.to_categorical(y1, number_of_classes)\n",
    "y2 = tf.keras.utils.to_categorical(y2, number_of_classes)\n",
    "\n",
    "#données de test\n",
    "test_x = test_images\n",
    "test_y = y2"
   ]
  },
  {
   "cell_type": "markdown",
   "metadata": {},
   "source": [
    "## Modélisation"
   ]
  },
  {
   "cell_type": "markdown",
   "metadata": {},
   "source": [
    "### Modèle 1"
   ]
  },
  {
   "cell_type": "code",
   "execution_count": 14,
   "metadata": {},
   "outputs": [
    {
     "name": "stdout",
     "output_type": "stream",
     "text": [
      "Model: \"sequential\"\n",
      "_________________________________________________________________\n",
      " Layer (type)                Output Shape              Param #   \n",
      "=================================================================\n",
      " conv2d (Conv2D)             (None, 26, 26, 32)        320       \n",
      "                                                                 \n",
      " max_pooling2d (MaxPooling2D  (None, 13, 13, 32)       0         \n",
      " )                                                               \n",
      "                                                                 \n",
      " flatten (Flatten)           (None, 5408)              0         \n",
      "                                                                 \n",
      " dense (Dense)               (None, 512)               2769408   \n",
      "                                                                 \n",
      " dense_1 (Dense)             (None, 128)               65664     \n",
      "                                                                 \n",
      " dense_2 (Dense)             (None, 27)                3483      \n",
      "                                                                 \n",
      "=================================================================\n",
      "Total params: 2,838,875\n",
      "Trainable params: 2,838,875\n",
      "Non-trainable params: 0\n",
      "_________________________________________________________________\n"
     ]
    }
   ],
   "source": [
    "MCP = ModelCheckpoint('Best_points_2.h5',verbose=1,save_best_only=True,monitor='val_accuracy',mode='max')\n",
    "ES = EarlyStopping(monitor='val_accuracy',min_delta=0,verbose=1,restore_best_weights = True,patience=3,mode='max')\n",
    "RLP = ReduceLROnPlateau(monitor='val_loss',patience=3,factor=0.2,min_lr=0.0001)\n",
    "\n",
    "train_x, val_x, train_y, val_y = train_test_split(train_images, y1, test_size=0.2, random_state=42)\n",
    "\n",
    "model = Sequential([Conv2D(32,3,input_shape=(28,28,1)),\n",
    "                            MaxPooling2D(2,2),\n",
    "                            Flatten(input_shape=(28,28,1)),\n",
    "                            Dense(512,activation='relu'),\n",
    "                            Dense(128,activation='relu'),\n",
    "                            Dense(number_of_classes,activation='softmax')])\n",
    "\n",
    "model.compile(optimizer='rmsprop',loss='categorical_crossentropy',metrics=['accuracy'])\n",
    "\n",
    "model.summary()"
   ]
  },
  {
   "cell_type": "code",
   "execution_count": 15,
   "metadata": {},
   "outputs": [
    {
     "name": "stdout",
     "output_type": "stream",
     "text": [
      "Epoch 1/2\n",
      "553/555 [============================>.] - ETA: 0s - loss: 0.6584 - accuracy: 0.7972\n",
      "Epoch 1: val_accuracy improved from -inf to 0.88446, saving model to Best_points_2.h5\n",
      "555/555 [==============================] - 16s 29ms/step - loss: 0.6571 - accuracy: 0.7975 - val_loss: 0.3568 - val_accuracy: 0.8845 - lr: 0.0010\n",
      "Epoch 2/2\n",
      "554/555 [============================>.] - ETA: 0s - loss: 0.2968 - accuracy: 0.9021\n",
      "Epoch 2: val_accuracy improved from 0.88446 to 0.89758, saving model to Best_points_2.h5\n",
      "555/555 [==============================] - 16s 29ms/step - loss: 0.2970 - accuracy: 0.9020 - val_loss: 0.3199 - val_accuracy: 0.8976 - lr: 0.0010\n"
     ]
    }
   ],
   "source": [
    "history = model.fit(train_x,train_y,epochs=2,batch_size=128,validation_data=(val_x,val_y), verbose=1,callbacks=[MCP,ES,RLP])"
   ]
  },
  {
   "cell_type": "code",
   "execution_count": 32,
   "metadata": {},
   "outputs": [
    {
     "data": {
      "image/png": "[encoded data removed]",
      "text/plain": [
       "<Figure size 432x288 with 1 Axes>"
      ]
     },
     "metadata": {
      "needs_background": "light"
     },
     "output_type": "display_data"
    }
   ],
   "source": [
    "q = len(history.history['accuracy'])\n",
    "\n",
    "plt.figsize=(10,10)\n",
    "sns.lineplot(x = range(1,1+q),y = history.history['accuracy'], label='Accuracy')\n",
    "sns.lineplot(x = range(1,1+q),y = history.history['val_accuracy'], label='Val_Accuracy')\n",
    "plt.xlabel('epochs')\n",
    "plt.ylabel('Accuracy')\n",
    "plt.show()"
   ]
  },
  {
   "cell_type": "code",
   "execution_count": 31,
   "metadata": {
    "scrolled": true
   },
   "outputs": [
    {
     "data": {
      "image/png": "[encoded data removed]",
      "text/plain": [
       "<Figure size 432x288 with 1 Axes>"
      ]
     },
     "metadata": {
      "needs_background": "light"
     },
     "output_type": "display_data"
    }
   ],
   "source": [
    "q = len(history.history['loss'])\n",
    "\n",
    "plt.figsize=(10,10)\n",
    "sns.lineplot(x = range(1,1+q),y = history.history['loss'], label='loss')\n",
    "sns.lineplot(x = range(1,1+q),y = history.history['val_loss'], label='Val_loss')\n",
    "plt.xlabel('epochs')\n",
    "plt.ylabel('loss')\n",
    "plt.show()"
   ]
  },
  {
   "cell_type": "code",
   "execution_count": 18,
   "metadata": {},
   "outputs": [
    {
     "data": {
      "text/plain": [
       "array([[0., 1., 0., ..., 0., 0., 0.],\n",
       "       [0., 1., 0., ..., 0., 0., 0.],\n",
       "       [0., 1., 0., ..., 0., 0., 0.],\n",
       "       ...,\n",
       "       [0., 0., 0., ..., 0., 0., 0.],\n",
       "       [0., 0., 0., ..., 0., 0., 0.],\n",
       "       [0., 0., 0., ..., 0., 0., 0.]], dtype=float32)"
      ]
     },
     "execution_count": 18,
     "metadata": {},
     "output_type": "execute_result"
    }
   ],
   "source": [
    "predictions = model.predict(test_x).round()\n",
    "predictions"
   ]
  },
  {
   "cell_type": "code",
   "execution_count": 19,
   "metadata": {},
   "outputs": [
    {
     "name": "stdout",
     "output_type": "stream",
     "text": [
      "              precision    recall  f1-score   support\n",
      "\n",
      "           0       0.00      0.00      0.00         0\n",
      "           1       0.89      0.86      0.87       800\n",
      "           2       0.96      0.90      0.93       800\n",
      "           3       0.95      0.94      0.94       800\n",
      "           4       0.95      0.86      0.91       800\n",
      "           5       0.96      0.92      0.94       800\n",
      "           6       1.00      0.88      0.94       800\n",
      "           7       0.87      0.71      0.78       800\n",
      "           8       0.89      0.90      0.90       800\n",
      "           9       0.76      0.67      0.71       800\n",
      "          10       0.97      0.90      0.93       800\n",
      "          11       0.98      0.92      0.95       800\n",
      "          12       0.74      0.69      0.71       800\n",
      "          13       0.95      0.97      0.96       800\n",
      "          14       0.93      0.92      0.92       800\n",
      "          15       0.92      0.96      0.94       800\n",
      "          16       0.95      0.96      0.95       800\n",
      "          17       0.79      0.83      0.81       800\n",
      "          18       0.93      0.96      0.95       800\n",
      "          19       0.98      0.93      0.95       400\n",
      "          20       0.00      0.00      0.00         0\n",
      "          21       0.00      0.00      0.00         0\n",
      "          22       0.00      0.00      0.00         0\n",
      "          23       0.00      0.00      0.00         0\n",
      "          24       0.00      0.00      0.00         0\n",
      "          25       0.00      0.00      0.00         0\n",
      "          26       0.00      0.00      0.00         0\n",
      "\n",
      "   micro avg       0.91      0.88      0.89     14800\n",
      "   macro avg       0.64      0.62      0.63     14800\n",
      "weighted avg       0.91      0.88      0.89     14800\n",
      " samples avg       0.88      0.88      0.88     14800\n",
      "\n"
     ]
    }
   ],
   "source": [
    "print(classification_report(test_y, predictions, zero_division=0))"
   ]
  },
  {
   "cell_type": "markdown",
   "metadata": {},
   "source": [
    "### Modèle 2"
   ]
  },
  {
   "cell_type": "code",
   "execution_count": 20,
   "metadata": {},
   "outputs": [
    {
     "name": "stdout",
     "output_type": "stream",
     "text": [
      "Model: \"sequential_1\"\n",
      "_________________________________________________________________\n",
      " Layer (type)                Output Shape              Param #   \n",
      "=================================================================\n",
      " conv2d_1 (Conv2D)           (None, 26, 26, 32)        320       \n",
      "                                                                 \n",
      " max_pooling2d_1 (MaxPooling  (None, 13, 13, 32)       0         \n",
      " 2D)                                                             \n",
      "                                                                 \n",
      " flatten_1 (Flatten)         (None, 5408)              0         \n",
      "                                                                 \n",
      " dense_3 (Dense)             (None, 256)               1384704   \n",
      "                                                                 \n",
      " dense_4 (Dense)             (None, 128)               32896     \n",
      "                                                                 \n",
      " dense_5 (Dense)             (None, 27)                3483      \n",
      "                                                                 \n",
      "=================================================================\n",
      "Total params: 1,421,403\n",
      "Trainable params: 1,421,403\n",
      "Non-trainable params: 0\n",
      "_________________________________________________________________\n"
     ]
    }
   ],
   "source": [
    "model2 = Sequential([Conv2D(32,3,input_shape=(28,28,1)),\n",
    "                            MaxPooling2D(2,2),\n",
    "                            Flatten(input_shape=(28,28,1)),\n",
    "                            Dense(256,activation='relu'),\n",
    "                            Dense(128,activation='relu'),\n",
    "                            Dense(number_of_classes,activation='softmax')])\n",
    "\n",
    "model2.compile(optimizer='rmsprop',loss='categorical_crossentropy',metrics=['accuracy'])\n",
    "\n",
    "model2.summary()"
   ]
  },
  {
   "cell_type": "code",
   "execution_count": 21,
   "metadata": {},
   "outputs": [
    {
     "name": "stdout",
     "output_type": "stream",
     "text": [
      "Epoch 1/2\n",
      "523/523 [==============================] - 11s 21ms/step - loss: 0.7278 - accuracy: 0.7776 - val_loss: 0.4580 - val_accuracy: 0.8521\n",
      "Epoch 2/2\n",
      "523/523 [==============================] - 11s 21ms/step - loss: 0.3349 - accuracy: 0.8900 - val_loss: 0.3331 - val_accuracy: 0.8919\n"
     ]
    }
   ],
   "source": [
    "history1 = model2.fit(train_x,train_y,epochs=2,batch_size=136,validation_data=(val_x,val_y))"
   ]
  },
  {
   "cell_type": "code",
   "execution_count": 29,
   "metadata": {},
   "outputs": [
    {
     "data": {
      "image/png": "[encoded data removed]",
      "text/plain": [
       "<Figure size 432x288 with 1 Axes>"
      ]
     },
     "metadata": {
      "needs_background": "light"
     },
     "output_type": "display_data"
    }
   ],
   "source": [
    "q = len(history1.history['accuracy'])\n",
    "\n",
    "plt.figsize=(10,10)\n",
    "sns.lineplot(x = range(1,1+q),y = history1.history['accuracy'], label='Accuracy')\n",
    "sns.lineplot(x = range(1,1+q),y = history1.history['val_accuracy'], label='Val_Accuracy')\n",
    "plt.xlabel('epochs')\n",
    "plt.ylabel('Accuracy')\n",
    "plt.show()"
   ]
  },
  {
   "cell_type": "code",
   "execution_count": 30,
   "metadata": {},
   "outputs": [
    {
     "data": {
      "image/png": "[encoded data removed]",
      "text/plain": [
       "<Figure size 432x288 with 1 Axes>"
      ]
     },
     "metadata": {
      "needs_background": "light"
     },
     "output_type": "display_data"
    }
   ],
   "source": [
    "q = len(history1.history['loss'])\n",
    "\n",
    "plt.figsize=(10,10)\n",
    "sns.lineplot(x = range(1,1+q),y = history1.history['loss'], label='loss')\n",
    "sns.lineplot(x = range(1,1+q),y = history1.history['val_loss'], label='Val_loss')\n",
    "plt.xlabel('epochs')\n",
    "plt.ylabel('loss')\n",
    "plt.show()"
   ]
  },
  {
   "cell_type": "code",
   "execution_count": 24,
   "metadata": {},
   "outputs": [
    {
     "data": {
      "text/plain": [
       "array([[0., 1., 0., ..., 0., 0., 0.],\n",
       "       [0., 1., 0., ..., 0., 0., 0.],\n",
       "       [0., 1., 0., ..., 0., 0., 0.],\n",
       "       ...,\n",
       "       [0., 0., 0., ..., 0., 0., 0.],\n",
       "       [0., 0., 0., ..., 0., 0., 0.],\n",
       "       [0., 0., 0., ..., 0., 0., 0.]], dtype=float32)"
      ]
     },
     "execution_count": 24,
     "metadata": {},
     "output_type": "execute_result"
    }
   ],
   "source": [
    "predictions2 = model2.predict(test_x)\n",
    "predictions2 = predictions2.round()\n",
    "predictions2"
   ]
  },
  {
   "cell_type": "code",
   "execution_count": 25,
   "metadata": {},
   "outputs": [
    {
     "name": "stdout",
     "output_type": "stream",
     "text": [
      "              precision    recall  f1-score   support\n",
      "\n",
      "           0       0.00      0.00      0.00         0\n",
      "           1       0.92      0.83      0.87       800\n",
      "           2       0.96      0.89      0.93       800\n",
      "           3       0.93      0.92      0.93       800\n",
      "           4       0.87      0.93      0.90       800\n",
      "           5       0.89      0.94      0.92       800\n",
      "           6       0.91      0.92      0.92       800\n",
      "           7       0.87      0.69      0.77       800\n",
      "           8       0.96      0.84      0.89       800\n",
      "           9       0.72      0.74      0.73       800\n",
      "          10       0.96      0.86      0.91       800\n",
      "          11       0.97      0.89      0.93       800\n",
      "          12       0.79      0.60      0.69       800\n",
      "          13       0.96      0.96      0.96       800\n",
      "          14       0.95      0.87      0.91       800\n",
      "          15       0.98      0.91      0.94       800\n",
      "          16       0.96      0.93      0.94       800\n",
      "          17       0.81      0.77      0.79       800\n",
      "          18       0.95      0.88      0.91       800\n",
      "          19       0.94      0.96      0.95       400\n",
      "          20       0.00      0.00      0.00         0\n",
      "          21       0.00      0.00      0.00         0\n",
      "          22       0.00      0.00      0.00         0\n",
      "          23       0.00      0.00      0.00         0\n",
      "          24       0.00      0.00      0.00         0\n",
      "          25       0.00      0.00      0.00         0\n",
      "          26       0.00      0.00      0.00         0\n",
      "\n",
      "   micro avg       0.90      0.86      0.88     14800\n",
      "   macro avg       0.64      0.60      0.62     14800\n",
      "weighted avg       0.91      0.86      0.88     14800\n",
      " samples avg       0.86      0.86      0.86     14800\n",
      "\n"
     ]
    }
   ],
   "source": [
    "print(classification_report(test_y, predictions2, zero_division=0))"
   ]
  },
  {
   "cell_type": "markdown",
   "metadata": {},
   "source": [
    "### Modèle 3\n",
    "Chargement d'un autre modèle gracieusement cédé par un collègue qui l'a testé et compilé pendant quelques heures sur sa machine"
   ]
  },
  {
   "cell_type": "code",
   "execution_count": 26,
   "metadata": {},
   "outputs": [
    {
     "name": "stdout",
     "output_type": "stream",
     "text": [
      "Model: \"sequential_18\"\n",
      "_________________________________________________________________\n",
      " Layer (type)                Output Shape              Param #   \n",
      "=================================================================\n",
      " conv2d_76 (Conv2D)          (None, 26, 26, 32)        320       \n",
      "                                                                 \n",
      " max_pooling2d_44 (MaxPoolin  (None, 13, 13, 32)       0         \n",
      " g2D)                                                            \n",
      "                                                                 \n",
      " dropout_44 (Dropout)        (None, 13, 13, 32)        0         \n",
      "                                                                 \n",
      " conv2d_77 (Conv2D)          (None, 11, 11, 32)        9248      \n",
      "                                                                 \n",
      " max_pooling2d_45 (MaxPoolin  (None, 5, 5, 32)         0         \n",
      " g2D)                                                            \n",
      "                                                                 \n",
      " dropout_45 (Dropout)        (None, 5, 5, 32)          0         \n",
      "                                                                 \n",
      " flatten_17 (Flatten)        (None, 800)               0         \n",
      "                                                                 \n",
      " dense_55 (Dense)            (None, 512)               410112    \n",
      "                                                                 \n",
      " dropout_46 (Dropout)        (None, 512)               0         \n",
      "                                                                 \n",
      " dense_56 (Dense)            (None, 256)               131328    \n",
      "                                                                 \n",
      " dropout_47 (Dropout)        (None, 256)               0         \n",
      "                                                                 \n",
      " dense_57 (Dense)            (None, 27)                6939      \n",
      "                                                                 \n",
      "=================================================================\n",
      "Total params: 557,947\n",
      "Trainable params: 557,947\n",
      "Non-trainable params: 0\n",
      "_________________________________________________________________\n"
     ]
    }
   ],
   "source": [
    "model_ld = load_model('fat_model.hdf5')\n",
    "model_ld.summary()"
   ]
  },
  {
   "cell_type": "markdown",
   "metadata": {},
   "source": [
    "Soit :\n",
    "\n",
    "```\n",
    "model = Sequential([Conv2D(32,3,input_shape=(28,28,1)),\n",
    "                            MaxPooling2D(2,2),\n",
    "                            Dropout(0.25),\n",
    "                            Conv2D(32,3),\n",
    "                            MaxPooling2D(2,2),\n",
    "                            Dropout(0.25),\n",
    "                            Flatten(input_shape=(28,28,1)),\n",
    "                            Dense(512,activation='relu'),\n",
    "                            Dropout(0.25),\n",
    "                            Dense(128,activation='relu'),\n",
    "                            Dropout(0.25),\n",
    "                            Dense(number_of_classes,activation='softmax')])\n",
    "\n",
    "\n",
    "model.compile(optimizer='rmsprop',loss='categorical_crossentropy',metrics=['accuracy'])}\n",
    "```"
   ]
  },
  {
   "cell_type": "code",
   "execution_count": 27,
   "metadata": {},
   "outputs": [
    {
     "name": "stdout",
     "output_type": "stream",
     "text": [
      "              precision    recall  f1-score   support\n",
      "\n",
      "           0       0.00      0.00      0.00         0\n",
      "           1       0.93      0.91      0.92       800\n",
      "           2       0.98      0.94      0.96       800\n",
      "           3       0.95      0.96      0.96       800\n",
      "           4       0.97      0.92      0.94       800\n",
      "           5       0.97      0.95      0.96       800\n",
      "           6       0.99      0.93      0.96       800\n",
      "           7       0.88      0.77      0.82       800\n",
      "           8       0.94      0.94      0.94       800\n",
      "           9       0.74      0.80      0.77       800\n",
      "          10       0.98      0.92      0.95       800\n",
      "          11       0.99      0.94      0.97       800\n",
      "          12       0.76      0.75      0.76       800\n",
      "          13       0.99      0.96      0.98       800\n",
      "          14       0.95      0.95      0.95       800\n",
      "          15       0.93      0.98      0.96       800\n",
      "          16       0.98      0.96      0.97       800\n",
      "          17       0.88      0.78      0.83       800\n",
      "          18       0.97      0.95      0.96       800\n",
      "          19       0.94      0.98      0.96       400\n",
      "          20       0.00      0.00      0.00         0\n",
      "          21       0.00      0.00      0.00         0\n",
      "          22       0.00      0.00      0.00         0\n",
      "          23       0.00      0.00      0.00         0\n",
      "          24       0.00      0.00      0.00         0\n",
      "          25       0.00      0.00      0.00         0\n",
      "          26       0.00      0.00      0.00         0\n",
      "\n",
      "   micro avg       0.93      0.91      0.92     14800\n",
      "   macro avg       0.66      0.64      0.65     14800\n",
      "weighted avg       0.93      0.91      0.92     14800\n",
      " samples avg       0.91      0.91      0.91     14800\n",
      "\n"
     ]
    }
   ],
   "source": [
    "predictions3 = model_ld.predict(test_x)\n",
    "predictions3 = predictions3.round()\n",
    "print(classification_report(test_y, predictions3, zero_division=0))"
   ]
  },
  {
   "cell_type": "markdown",
   "metadata": {},
   "source": [
    "### Comparaison entre les modèles\n",
    "A noter : la moyenne macro est plus basse sur tous les modèles car les données de test ne contiennent que 19 labels\n",
    "\n",
    "- [ ] Modèle 1 (moyen)\n",
    "```\n",
    "     micro avg       0.91      0.88      0.89     14800\n",
    "     macro avg       0.64      0.62      0.63     14800\n",
    "weighted avg       0.91      0.88      0.89     14800\n",
    "   samples avg       0.88      0.88      0.88     14800\n",
    "```\n",
    "- [ ] Modèle 2 (moins bon)\n",
    "```\n",
    "     micro avg       0.90      0.86      0.88     14800\n",
    "     macro avg       0.64      0.60      0.62     14800\n",
    "weighted avg       0.91      0.86      0.88     14800\n",
    "   samples avg       0.86      0.86      0.86     14800\n",
    "```\n",
    "- [x] Modèle 3 (meilleur)\n",
    "```\n",
    "     micro avg       0.93      0.91      0.92     14800\n",
    "     macro avg       0.66      0.64      0.65     14800\n",
    "weighted avg       0.93      0.91      0.92     14800\n",
    "   samples avg       0.91      0.91      0.91     14800\n",
    "```\n",
    "\n",
    "Ce dernier modèle est donc sélectionné.\n",
    "<br>Il a été corrigé en une nouvelle version (fat_model_corrected.hdf5) de telle manière qu'il prend désormais en compte uniquement les images placées dans le bon sens, dans le but de l'utiliser dans une application de reconnaissance de lettres."
   ]
  }
 ],
 "metadata": {
  "kernelspec": {
   "display_name": "Python 3 (ipykernel)",
   "language": "python",
   "name": "python3"
  },
  "language_info": {
   "codemirror_mode": {
    "name": "ipython",
    "version": 3
   },
   "file_extension": ".py",
   "mimetype": "text/x-python",
   "name": "python",
   "nbconvert_exporter": "python",
   "pygments_lexer": "ipython3",
   "version": "3.9.7"
  },
  "toc": {
   "base_numbering": 1,
   "nav_menu": {},
   "number_sections": true,
   "sideBar": true,
   "skip_h1_title": false,
   "title_cell": "Table of Contents",
   "title_sidebar": "Contents",
   "toc_cell": false,
   "toc_position": {},
   "toc_section_display": true,
   "toc_window_display": false
  }
 },
 "nbformat": 4,
 "nbformat_minor": 4
}
